{
 "cells": [
  {
   "cell_type": "code",
   "execution_count": 1,
   "id": "cee8e8eb",
   "metadata": {},
   "outputs": [],
   "source": [
    "# importing all the necessary libraries\n",
    "import numpy as np\n",
    "import pandas as pd\n",
    "import matplotlib.pyplot as plt\n",
    "import seaborn as sns\n",
    "import warnings\n",
    "warnings.filterwarnings('ignore')"
   ]
  },
  {
   "cell_type": "code",
   "execution_count": 2,
   "id": "4dd6f345",
   "metadata": {},
   "outputs": [],
   "source": [
    "df = pd.read_json(\"domainTags2.json\")"
   ]
  },
  {
   "cell_type": "code",
   "execution_count": 3,
   "id": "7d3fa414",
   "metadata": {},
   "outputs": [
    {
     "data": {
      "text/html": [
       "<div>\n",
       "<style scoped>\n",
       "    .dataframe tbody tr th:only-of-type {\n",
       "        vertical-align: middle;\n",
       "    }\n",
       "\n",
       "    .dataframe tbody tr th {\n",
       "        vertical-align: top;\n",
       "    }\n",
       "\n",
       "    .dataframe thead th {\n",
       "        text-align: right;\n",
       "    }\n",
       "</style>\n",
       "<table border=\"1\" class=\"dataframe\">\n",
       "  <thead>\n",
       "    <tr style=\"text-align: right;\">\n",
       "      <th></th>\n",
       "      <th>_id</th>\n",
       "      <th>tags</th>\n",
       "      <th>companyName</th>\n",
       "      <th>domainName</th>\n",
       "      <th>crunchbase_url</th>\n",
       "      <th>TYPE</th>\n",
       "      <th>UpdatedOn</th>\n",
       "      <th>companyDesc</th>\n",
       "      <th>companyWebsite</th>\n",
       "      <th>employeeNumber</th>\n",
       "      <th>foundedDate</th>\n",
       "      <th>domain_groups</th>\n",
       "      <th>fundingList</th>\n",
       "    </tr>\n",
       "  </thead>\n",
       "  <tbody>\n",
       "    <tr>\n",
       "      <th>0</th>\n",
       "      <td>{'$oid': '5d09dfd68501d21d7d729bb1'}</td>\n",
       "      <td>[finance, insurance]</td>\n",
       "      <td>[21st century insurance]</td>\n",
       "      <td>21st</td>\n",
       "      <td>https://www.crunchbase.com/organization/21st-c...</td>\n",
       "      <td>Product-based</td>\n",
       "      <td>{'$date': '2020-01-18T03:39:34.845Z'}</td>\n",
       "      <td>since 1958, 21st century insurance has been de...</td>\n",
       "      <td>www.21st.com</td>\n",
       "      <td>{'max': 10000, 'min': 5001}</td>\n",
       "      <td>{'$date': {'$numberLong': '-378658800000'}}</td>\n",
       "      <td>{'Fintech/ Payments': 0.825334256973911, 'Insu...</td>\n",
       "      <td>NaN</td>\n",
       "    </tr>\n",
       "    <tr>\n",
       "      <th>1</th>\n",
       "      <td>{'$oid': '5d09dfd78501d21d7d729bbb'}</td>\n",
       "      <td>[3d technology]</td>\n",
       "      <td>[3d networks]</td>\n",
       "      <td>3dnetworks</td>\n",
       "      <td>https://www.crunchbase.com/organization/3d-net...</td>\n",
       "      <td>Product-based</td>\n",
       "      <td>{'$date': '2020-01-20T15:10:33.852Z'}</td>\n",
       "      <td>NaN</td>\n",
       "      <td>www.3dnetworks.com</td>\n",
       "      <td>NaN</td>\n",
       "      <td>{'$date': '2000-01-01T09:00:00.000Z'}</td>\n",
       "      <td>NaN</td>\n",
       "      <td>NaN</td>\n",
       "    </tr>\n",
       "    <tr>\n",
       "      <th>2</th>\n",
       "      <td>{'$oid': '5d09dfd78501d21d7d729bbc'}</td>\n",
       "      <td>[3d technology, augmented reality, e-commerce]</td>\n",
       "      <td>[3dphy]</td>\n",
       "      <td>3dphy</td>\n",
       "      <td>https://www.crunchbase.com/organization/3dphy-...</td>\n",
       "      <td>Product-based</td>\n",
       "      <td>{'$date': '2020-01-16T11:44:30.116Z'}</td>\n",
       "      <td>3dphy provides a range of 3d virtual and augme...</td>\n",
       "      <td>www.3dphy.com</td>\n",
       "      <td>{'max': 50, 'min': 11}</td>\n",
       "      <td>{'$date': '2014-11-03T09:00:00.000Z'}</td>\n",
       "      <td>NaN</td>\n",
       "      <td>[{'fundingDate': {'$date': '2014-12-18T09:00:0...</td>\n",
       "    </tr>\n",
       "    <tr>\n",
       "      <th>3</th>\n",
       "      <td>{'$oid': '5d09dfd78501d21d7d729bbe'}</td>\n",
       "      <td>[android, enterprise software, mobile]</td>\n",
       "      <td>[3lm]</td>\n",
       "      <td>3lm</td>\n",
       "      <td>https://www.crunchbase.com/organization/3lm?ut...</td>\n",
       "      <td>Product-based</td>\n",
       "      <td>{'$date': '2020-01-21T12:50:14.767Z'}</td>\n",
       "      <td>3lm has already signed deals to provide its te...</td>\n",
       "      <td>www.3lm.com</td>\n",
       "      <td>{'max': 50, 'min': 11}</td>\n",
       "      <td>{'$date': '2010-07-01T09:00:00.000Z'}</td>\n",
       "      <td>{'Developer Tools': 0.617930901407716}</td>\n",
       "      <td>[{'fundingDate': {'$date': '2010-07-01T09:00:0...</td>\n",
       "    </tr>\n",
       "    <tr>\n",
       "      <th>4</th>\n",
       "      <td>{'$oid': '5d09dfd78501d21d7d729bbf'}</td>\n",
       "      <td>[automotive, electronics, enterprise software]</td>\n",
       "      <td>[3m]</td>\n",
       "      <td>3m</td>\n",
       "      <td>https://www.crunchbase.com/organization/3m?utm...</td>\n",
       "      <td>Product-based</td>\n",
       "      <td>{'$date': '2020-01-17T17:56:53.792Z'}</td>\n",
       "      <td>3m operates as a diversified technology compan...</td>\n",
       "      <td>www.3m.com</td>\n",
       "      <td>{'max': 10001, 'min': 0}</td>\n",
       "      <td>{'$date': {'$numberLong': '-2145884400000'}}</td>\n",
       "      <td>{'Hardware': 0.6879067738004571, 'Automotive':...</td>\n",
       "      <td>NaN</td>\n",
       "    </tr>\n",
       "  </tbody>\n",
       "</table>\n",
       "</div>"
      ],
      "text/plain": [
       "                                    _id  \\\n",
       "0  {'$oid': '5d09dfd68501d21d7d729bb1'}   \n",
       "1  {'$oid': '5d09dfd78501d21d7d729bbb'}   \n",
       "2  {'$oid': '5d09dfd78501d21d7d729bbc'}   \n",
       "3  {'$oid': '5d09dfd78501d21d7d729bbe'}   \n",
       "4  {'$oid': '5d09dfd78501d21d7d729bbf'}   \n",
       "\n",
       "                                             tags               companyName  \\\n",
       "0                            [finance, insurance]  [21st century insurance]   \n",
       "1                                 [3d technology]             [3d networks]   \n",
       "2  [3d technology, augmented reality, e-commerce]                   [3dphy]   \n",
       "3          [android, enterprise software, mobile]                     [3lm]   \n",
       "4  [automotive, electronics, enterprise software]                      [3m]   \n",
       "\n",
       "   domainName                                     crunchbase_url  \\\n",
       "0        21st  https://www.crunchbase.com/organization/21st-c...   \n",
       "1  3dnetworks  https://www.crunchbase.com/organization/3d-net...   \n",
       "2       3dphy  https://www.crunchbase.com/organization/3dphy-...   \n",
       "3         3lm  https://www.crunchbase.com/organization/3lm?ut...   \n",
       "4          3m  https://www.crunchbase.com/organization/3m?utm...   \n",
       "\n",
       "            TYPE                              UpdatedOn  \\\n",
       "0  Product-based  {'$date': '2020-01-18T03:39:34.845Z'}   \n",
       "1  Product-based  {'$date': '2020-01-20T15:10:33.852Z'}   \n",
       "2  Product-based  {'$date': '2020-01-16T11:44:30.116Z'}   \n",
       "3  Product-based  {'$date': '2020-01-21T12:50:14.767Z'}   \n",
       "4  Product-based  {'$date': '2020-01-17T17:56:53.792Z'}   \n",
       "\n",
       "                                         companyDesc      companyWebsite  \\\n",
       "0  since 1958, 21st century insurance has been de...        www.21st.com   \n",
       "1                                                NaN  www.3dnetworks.com   \n",
       "2  3dphy provides a range of 3d virtual and augme...       www.3dphy.com   \n",
       "3  3lm has already signed deals to provide its te...         www.3lm.com   \n",
       "4  3m operates as a diversified technology compan...          www.3m.com   \n",
       "\n",
       "                employeeNumber                                   foundedDate  \\\n",
       "0  {'max': 10000, 'min': 5001}   {'$date': {'$numberLong': '-378658800000'}}   \n",
       "1                          NaN         {'$date': '2000-01-01T09:00:00.000Z'}   \n",
       "2       {'max': 50, 'min': 11}         {'$date': '2014-11-03T09:00:00.000Z'}   \n",
       "3       {'max': 50, 'min': 11}         {'$date': '2010-07-01T09:00:00.000Z'}   \n",
       "4     {'max': 10001, 'min': 0}  {'$date': {'$numberLong': '-2145884400000'}}   \n",
       "\n",
       "                                       domain_groups  \\\n",
       "0  {'Fintech/ Payments': 0.825334256973911, 'Insu...   \n",
       "1                                                NaN   \n",
       "2                                                NaN   \n",
       "3             {'Developer Tools': 0.617930901407716}   \n",
       "4  {'Hardware': 0.6879067738004571, 'Automotive':...   \n",
       "\n",
       "                                         fundingList  \n",
       "0                                                NaN  \n",
       "1                                                NaN  \n",
       "2  [{'fundingDate': {'$date': '2014-12-18T09:00:0...  \n",
       "3  [{'fundingDate': {'$date': '2010-07-01T09:00:0...  \n",
       "4                                                NaN  "
      ]
     },
     "execution_count": 3,
     "metadata": {},
     "output_type": "execute_result"
    }
   ],
   "source": [
    "df.head()"
   ]
  },
  {
   "cell_type": "code",
   "execution_count": 4,
   "id": "8ef6961e",
   "metadata": {},
   "outputs": [
    {
     "data": {
      "text/html": [
       "<div>\n",
       "<style scoped>\n",
       "    .dataframe tbody tr th:only-of-type {\n",
       "        vertical-align: middle;\n",
       "    }\n",
       "\n",
       "    .dataframe tbody tr th {\n",
       "        vertical-align: top;\n",
       "    }\n",
       "\n",
       "    .dataframe thead th {\n",
       "        text-align: right;\n",
       "    }\n",
       "</style>\n",
       "<table border=\"1\" class=\"dataframe\">\n",
       "  <thead>\n",
       "    <tr style=\"text-align: right;\">\n",
       "      <th></th>\n",
       "      <th>_id</th>\n",
       "      <th>tags</th>\n",
       "      <th>companyName</th>\n",
       "      <th>domainName</th>\n",
       "      <th>crunchbase_url</th>\n",
       "      <th>TYPE</th>\n",
       "      <th>UpdatedOn</th>\n",
       "      <th>companyDesc</th>\n",
       "      <th>companyWebsite</th>\n",
       "      <th>employeeNumber</th>\n",
       "      <th>foundedDate</th>\n",
       "      <th>domain_groups</th>\n",
       "      <th>fundingList</th>\n",
       "    </tr>\n",
       "  </thead>\n",
       "  <tbody>\n",
       "    <tr>\n",
       "      <th>7457</th>\n",
       "      <td>{'$oid': '5e4a721d6a9636171e7a618b'}</td>\n",
       "      <td>[business development, digital marketing, ios,...</td>\n",
       "      <td>[mind spark technologies]</td>\n",
       "      <td>mindsparktechnologies</td>\n",
       "      <td>https://www.crunchbase.com/organization/mind-s...</td>\n",
       "      <td>NaN</td>\n",
       "      <td>{'$date': '2020-02-17T10:59:41.857Z'}</td>\n",
       "      <td>mind spark technologies is one of the world&amp;#0...</td>\n",
       "      <td>www.mindsparktechnologies.com/</td>\n",
       "      <td>{'max': 50, 'min': 11}</td>\n",
       "      <td>{'$date': '2013-02-05T09:00:00.000Z'}</td>\n",
       "      <td>NaN</td>\n",
       "      <td>NaN</td>\n",
       "    </tr>\n",
       "    <tr>\n",
       "      <th>7458</th>\n",
       "      <td>{'$oid': '5e4a721e6a9636171e7a618d'}</td>\n",
       "      <td>[messaging, mobile, software, telecommunicatio...</td>\n",
       "      <td>[jataayu software]</td>\n",
       "      <td>jataayusoft</td>\n",
       "      <td>https://www.crunchbase.com/organization/jataay...</td>\n",
       "      <td>NaN</td>\n",
       "      <td>{'$date': '2020-02-17T10:59:42.058Z'}</td>\n",
       "      <td>a leading provider of products and solutions f...</td>\n",
       "      <td>www.jataayusoft.com</td>\n",
       "      <td>{'max': 500, 'min': 251}</td>\n",
       "      <td>{'$date': '2000-01-01T09:00:00.000Z'}</td>\n",
       "      <td>{}</td>\n",
       "      <td>NaN</td>\n",
       "    </tr>\n",
       "    <tr>\n",
       "      <th>7459</th>\n",
       "      <td>{'$oid': '5e4a721f6a9636171e7a6197'}</td>\n",
       "      <td>[internet, software]</td>\n",
       "      <td>[informix, informix software india .]</td>\n",
       "      <td>informix</td>\n",
       "      <td>https://www.crunchbase.com/organization/informix</td>\n",
       "      <td>NaN</td>\n",
       "      <td>{'$date': '2020-02-17T10:59:43.069Z'}</td>\n",
       "      <td>informix provides database management systems ...</td>\n",
       "      <td>www.informix.com</td>\n",
       "      <td>{'max': 10001, 'min': 0}</td>\n",
       "      <td>{'$date': {'$numberLong': '-2335186800000'}}</td>\n",
       "      <td>NaN</td>\n",
       "      <td>NaN</td>\n",
       "    </tr>\n",
       "    <tr>\n",
       "      <th>7460</th>\n",
       "      <td>{'$oid': '5e4a72236a9636171e7a61c7'}</td>\n",
       "      <td>[advertising, brand marketing, e-commerce, mar...</td>\n",
       "      <td>[carpe diem, carpediem]</td>\n",
       "      <td>carpe-diem</td>\n",
       "      <td>https://www.crunchbase.com/organization/carpe-...</td>\n",
       "      <td>NaN</td>\n",
       "      <td>{'$date': '2020-02-17T10:59:47.914Z'}</td>\n",
       "      <td>we specialist in website design and developmen...</td>\n",
       "      <td>www.carpe-diem.co.uk</td>\n",
       "      <td>{'max': 10, 'min': 1}</td>\n",
       "      <td>{'$date': '1999-11-03T09:00:00.000Z'}</td>\n",
       "      <td>{'Martech': 0.860730265236547}</td>\n",
       "      <td>NaN</td>\n",
       "    </tr>\n",
       "    <tr>\n",
       "      <th>7461</th>\n",
       "      <td>{'$oid': '5e4a72246a9636171e7a61cb'}</td>\n",
       "      <td>[search engine]</td>\n",
       "      <td>[national bureau of economic research]</td>\n",
       "      <td>nber</td>\n",
       "      <td>https://www.crunchbase.com/organization/nation...</td>\n",
       "      <td>NaN</td>\n",
       "      <td>{'$date': '2020-02-17T10:59:48.324Z'}</td>\n",
       "      <td>the national bureau of economic research is a ...</td>\n",
       "      <td>www.nber.org</td>\n",
       "      <td>{'max': 1000, 'min': 501}</td>\n",
       "      <td>{'$date': {'$numberLong': '-1577890800000'}}</td>\n",
       "      <td>NaN</td>\n",
       "      <td>NaN</td>\n",
       "    </tr>\n",
       "  </tbody>\n",
       "</table>\n",
       "</div>"
      ],
      "text/plain": [
       "                                       _id  \\\n",
       "7457  {'$oid': '5e4a721d6a9636171e7a618b'}   \n",
       "7458  {'$oid': '5e4a721e6a9636171e7a618d'}   \n",
       "7459  {'$oid': '5e4a721f6a9636171e7a6197'}   \n",
       "7460  {'$oid': '5e4a72236a9636171e7a61c7'}   \n",
       "7461  {'$oid': '5e4a72246a9636171e7a61cb'}   \n",
       "\n",
       "                                                   tags  \\\n",
       "7457  [business development, digital marketing, ios,...   \n",
       "7458  [messaging, mobile, software, telecommunicatio...   \n",
       "7459                               [internet, software]   \n",
       "7460  [advertising, brand marketing, e-commerce, mar...   \n",
       "7461                                    [search engine]   \n",
       "\n",
       "                                 companyName             domainName  \\\n",
       "7457               [mind spark technologies]  mindsparktechnologies   \n",
       "7458                      [jataayu software]            jataayusoft   \n",
       "7459   [informix, informix software india .]               informix   \n",
       "7460                 [carpe diem, carpediem]             carpe-diem   \n",
       "7461  [national bureau of economic research]                   nber   \n",
       "\n",
       "                                         crunchbase_url TYPE  \\\n",
       "7457  https://www.crunchbase.com/organization/mind-s...  NaN   \n",
       "7458  https://www.crunchbase.com/organization/jataay...  NaN   \n",
       "7459   https://www.crunchbase.com/organization/informix  NaN   \n",
       "7460  https://www.crunchbase.com/organization/carpe-...  NaN   \n",
       "7461  https://www.crunchbase.com/organization/nation...  NaN   \n",
       "\n",
       "                                  UpdatedOn  \\\n",
       "7457  {'$date': '2020-02-17T10:59:41.857Z'}   \n",
       "7458  {'$date': '2020-02-17T10:59:42.058Z'}   \n",
       "7459  {'$date': '2020-02-17T10:59:43.069Z'}   \n",
       "7460  {'$date': '2020-02-17T10:59:47.914Z'}   \n",
       "7461  {'$date': '2020-02-17T10:59:48.324Z'}   \n",
       "\n",
       "                                            companyDesc  \\\n",
       "7457  mind spark technologies is one of the world&#0...   \n",
       "7458  a leading provider of products and solutions f...   \n",
       "7459  informix provides database management systems ...   \n",
       "7460  we specialist in website design and developmen...   \n",
       "7461  the national bureau of economic research is a ...   \n",
       "\n",
       "                      companyWebsite             employeeNumber  \\\n",
       "7457  www.mindsparktechnologies.com/     {'max': 50, 'min': 11}   \n",
       "7458             www.jataayusoft.com   {'max': 500, 'min': 251}   \n",
       "7459                www.informix.com   {'max': 10001, 'min': 0}   \n",
       "7460            www.carpe-diem.co.uk      {'max': 10, 'min': 1}   \n",
       "7461                    www.nber.org  {'max': 1000, 'min': 501}   \n",
       "\n",
       "                                       foundedDate  \\\n",
       "7457         {'$date': '2013-02-05T09:00:00.000Z'}   \n",
       "7458         {'$date': '2000-01-01T09:00:00.000Z'}   \n",
       "7459  {'$date': {'$numberLong': '-2335186800000'}}   \n",
       "7460         {'$date': '1999-11-03T09:00:00.000Z'}   \n",
       "7461  {'$date': {'$numberLong': '-1577890800000'}}   \n",
       "\n",
       "                       domain_groups fundingList  \n",
       "7457                             NaN         NaN  \n",
       "7458                              {}         NaN  \n",
       "7459                             NaN         NaN  \n",
       "7460  {'Martech': 0.860730265236547}         NaN  \n",
       "7461                             NaN         NaN  "
      ]
     },
     "execution_count": 4,
     "metadata": {},
     "output_type": "execute_result"
    }
   ],
   "source": [
    "df.tail()"
   ]
  },
  {
   "cell_type": "code",
   "execution_count": 5,
   "id": "8249b289",
   "metadata": {},
   "outputs": [
    {
     "data": {
      "text/plain": [
       "(7462, 13)"
      ]
     },
     "execution_count": 5,
     "metadata": {},
     "output_type": "execute_result"
    }
   ],
   "source": [
    "df.shape"
   ]
  },
  {
   "cell_type": "markdown",
   "id": "896abeda",
   "metadata": {},
   "source": [
    "#### The dataset has 7462 rows and 13 features"
   ]
  },
  {
   "cell_type": "code",
   "execution_count": 6,
   "id": "eedbf136",
   "metadata": {},
   "outputs": [
    {
     "name": "stdout",
     "output_type": "stream",
     "text": [
      "<class 'pandas.core.frame.DataFrame'>\n",
      "RangeIndex: 7462 entries, 0 to 7461\n",
      "Data columns (total 13 columns):\n",
      " #   Column          Non-Null Count  Dtype \n",
      "---  ------          --------------  ----- \n",
      " 0   _id             7462 non-null   object\n",
      " 1   tags            7397 non-null   object\n",
      " 2   companyName     7462 non-null   object\n",
      " 3   domainName      7462 non-null   object\n",
      " 4   crunchbase_url  7462 non-null   object\n",
      " 5   TYPE            6097 non-null   object\n",
      " 6   UpdatedOn       7428 non-null   object\n",
      " 7   companyDesc     6247 non-null   object\n",
      " 8   companyWebsite  7336 non-null   object\n",
      " 9   employeeNumber  6604 non-null   object\n",
      " 10  foundedDate     6603 non-null   object\n",
      " 11  domain_groups   4406 non-null   object\n",
      " 12  fundingList     2140 non-null   object\n",
      "dtypes: object(13)\n",
      "memory usage: 758.0+ KB\n"
     ]
    }
   ],
   "source": [
    "df.info()"
   ]
  },
  {
   "cell_type": "markdown",
   "id": "cc949e00",
   "metadata": {},
   "source": [
    "#### All the features are of object type"
   ]
  },
  {
   "cell_type": "markdown",
   "id": "40d1ce7f",
   "metadata": {},
   "source": [
    "# Data Cleaning"
   ]
  },
  {
   "cell_type": "markdown",
   "id": "24b6720b",
   "metadata": {},
   "source": [
    "#### As _id column has no significant meaning we are dropping it"
   ]
  },
  {
   "cell_type": "code",
   "execution_count": 7,
   "id": "3c652661",
   "metadata": {},
   "outputs": [],
   "source": [
    "df.drop(['_id'],axis = 1,inplace = True)"
   ]
  },
  {
   "cell_type": "code",
   "execution_count": 8,
   "id": "daf4c411",
   "metadata": {},
   "outputs": [
    {
     "data": {
      "text/html": [
       "<div>\n",
       "<style scoped>\n",
       "    .dataframe tbody tr th:only-of-type {\n",
       "        vertical-align: middle;\n",
       "    }\n",
       "\n",
       "    .dataframe tbody tr th {\n",
       "        vertical-align: top;\n",
       "    }\n",
       "\n",
       "    .dataframe thead th {\n",
       "        text-align: right;\n",
       "    }\n",
       "</style>\n",
       "<table border=\"1\" class=\"dataframe\">\n",
       "  <thead>\n",
       "    <tr style=\"text-align: right;\">\n",
       "      <th></th>\n",
       "      <th>tags</th>\n",
       "      <th>companyName</th>\n",
       "      <th>domainName</th>\n",
       "      <th>crunchbase_url</th>\n",
       "      <th>TYPE</th>\n",
       "      <th>UpdatedOn</th>\n",
       "      <th>companyDesc</th>\n",
       "      <th>companyWebsite</th>\n",
       "      <th>employeeNumber</th>\n",
       "      <th>foundedDate</th>\n",
       "      <th>domain_groups</th>\n",
       "      <th>fundingList</th>\n",
       "    </tr>\n",
       "  </thead>\n",
       "  <tbody>\n",
       "    <tr>\n",
       "      <th>0</th>\n",
       "      <td>[finance, insurance]</td>\n",
       "      <td>[21st century insurance]</td>\n",
       "      <td>21st</td>\n",
       "      <td>https://www.crunchbase.com/organization/21st-c...</td>\n",
       "      <td>Product-based</td>\n",
       "      <td>{'$date': '2020-01-18T03:39:34.845Z'}</td>\n",
       "      <td>since 1958, 21st century insurance has been de...</td>\n",
       "      <td>www.21st.com</td>\n",
       "      <td>{'max': 10000, 'min': 5001}</td>\n",
       "      <td>{'$date': {'$numberLong': '-378658800000'}}</td>\n",
       "      <td>{'Fintech/ Payments': 0.825334256973911, 'Insu...</td>\n",
       "      <td>NaN</td>\n",
       "    </tr>\n",
       "    <tr>\n",
       "      <th>1</th>\n",
       "      <td>[3d technology]</td>\n",
       "      <td>[3d networks]</td>\n",
       "      <td>3dnetworks</td>\n",
       "      <td>https://www.crunchbase.com/organization/3d-net...</td>\n",
       "      <td>Product-based</td>\n",
       "      <td>{'$date': '2020-01-20T15:10:33.852Z'}</td>\n",
       "      <td>NaN</td>\n",
       "      <td>www.3dnetworks.com</td>\n",
       "      <td>NaN</td>\n",
       "      <td>{'$date': '2000-01-01T09:00:00.000Z'}</td>\n",
       "      <td>NaN</td>\n",
       "      <td>NaN</td>\n",
       "    </tr>\n",
       "    <tr>\n",
       "      <th>2</th>\n",
       "      <td>[3d technology, augmented reality, e-commerce]</td>\n",
       "      <td>[3dphy]</td>\n",
       "      <td>3dphy</td>\n",
       "      <td>https://www.crunchbase.com/organization/3dphy-...</td>\n",
       "      <td>Product-based</td>\n",
       "      <td>{'$date': '2020-01-16T11:44:30.116Z'}</td>\n",
       "      <td>3dphy provides a range of 3d virtual and augme...</td>\n",
       "      <td>www.3dphy.com</td>\n",
       "      <td>{'max': 50, 'min': 11}</td>\n",
       "      <td>{'$date': '2014-11-03T09:00:00.000Z'}</td>\n",
       "      <td>NaN</td>\n",
       "      <td>[{'fundingDate': {'$date': '2014-12-18T09:00:0...</td>\n",
       "    </tr>\n",
       "    <tr>\n",
       "      <th>3</th>\n",
       "      <td>[android, enterprise software, mobile]</td>\n",
       "      <td>[3lm]</td>\n",
       "      <td>3lm</td>\n",
       "      <td>https://www.crunchbase.com/organization/3lm?ut...</td>\n",
       "      <td>Product-based</td>\n",
       "      <td>{'$date': '2020-01-21T12:50:14.767Z'}</td>\n",
       "      <td>3lm has already signed deals to provide its te...</td>\n",
       "      <td>www.3lm.com</td>\n",
       "      <td>{'max': 50, 'min': 11}</td>\n",
       "      <td>{'$date': '2010-07-01T09:00:00.000Z'}</td>\n",
       "      <td>{'Developer Tools': 0.617930901407716}</td>\n",
       "      <td>[{'fundingDate': {'$date': '2010-07-01T09:00:0...</td>\n",
       "    </tr>\n",
       "    <tr>\n",
       "      <th>4</th>\n",
       "      <td>[automotive, electronics, enterprise software]</td>\n",
       "      <td>[3m]</td>\n",
       "      <td>3m</td>\n",
       "      <td>https://www.crunchbase.com/organization/3m?utm...</td>\n",
       "      <td>Product-based</td>\n",
       "      <td>{'$date': '2020-01-17T17:56:53.792Z'}</td>\n",
       "      <td>3m operates as a diversified technology compan...</td>\n",
       "      <td>www.3m.com</td>\n",
       "      <td>{'max': 10001, 'min': 0}</td>\n",
       "      <td>{'$date': {'$numberLong': '-2145884400000'}}</td>\n",
       "      <td>{'Hardware': 0.6879067738004571, 'Automotive':...</td>\n",
       "      <td>NaN</td>\n",
       "    </tr>\n",
       "  </tbody>\n",
       "</table>\n",
       "</div>"
      ],
      "text/plain": [
       "                                             tags               companyName  \\\n",
       "0                            [finance, insurance]  [21st century insurance]   \n",
       "1                                 [3d technology]             [3d networks]   \n",
       "2  [3d technology, augmented reality, e-commerce]                   [3dphy]   \n",
       "3          [android, enterprise software, mobile]                     [3lm]   \n",
       "4  [automotive, electronics, enterprise software]                      [3m]   \n",
       "\n",
       "   domainName                                     crunchbase_url  \\\n",
       "0        21st  https://www.crunchbase.com/organization/21st-c...   \n",
       "1  3dnetworks  https://www.crunchbase.com/organization/3d-net...   \n",
       "2       3dphy  https://www.crunchbase.com/organization/3dphy-...   \n",
       "3         3lm  https://www.crunchbase.com/organization/3lm?ut...   \n",
       "4          3m  https://www.crunchbase.com/organization/3m?utm...   \n",
       "\n",
       "            TYPE                              UpdatedOn  \\\n",
       "0  Product-based  {'$date': '2020-01-18T03:39:34.845Z'}   \n",
       "1  Product-based  {'$date': '2020-01-20T15:10:33.852Z'}   \n",
       "2  Product-based  {'$date': '2020-01-16T11:44:30.116Z'}   \n",
       "3  Product-based  {'$date': '2020-01-21T12:50:14.767Z'}   \n",
       "4  Product-based  {'$date': '2020-01-17T17:56:53.792Z'}   \n",
       "\n",
       "                                         companyDesc      companyWebsite  \\\n",
       "0  since 1958, 21st century insurance has been de...        www.21st.com   \n",
       "1                                                NaN  www.3dnetworks.com   \n",
       "2  3dphy provides a range of 3d virtual and augme...       www.3dphy.com   \n",
       "3  3lm has already signed deals to provide its te...         www.3lm.com   \n",
       "4  3m operates as a diversified technology compan...          www.3m.com   \n",
       "\n",
       "                employeeNumber                                   foundedDate  \\\n",
       "0  {'max': 10000, 'min': 5001}   {'$date': {'$numberLong': '-378658800000'}}   \n",
       "1                          NaN         {'$date': '2000-01-01T09:00:00.000Z'}   \n",
       "2       {'max': 50, 'min': 11}         {'$date': '2014-11-03T09:00:00.000Z'}   \n",
       "3       {'max': 50, 'min': 11}         {'$date': '2010-07-01T09:00:00.000Z'}   \n",
       "4     {'max': 10001, 'min': 0}  {'$date': {'$numberLong': '-2145884400000'}}   \n",
       "\n",
       "                                       domain_groups  \\\n",
       "0  {'Fintech/ Payments': 0.825334256973911, 'Insu...   \n",
       "1                                                NaN   \n",
       "2                                                NaN   \n",
       "3             {'Developer Tools': 0.617930901407716}   \n",
       "4  {'Hardware': 0.6879067738004571, 'Automotive':...   \n",
       "\n",
       "                                         fundingList  \n",
       "0                                                NaN  \n",
       "1                                                NaN  \n",
       "2  [{'fundingDate': {'$date': '2014-12-18T09:00:0...  \n",
       "3  [{'fundingDate': {'$date': '2010-07-01T09:00:0...  \n",
       "4                                                NaN  "
      ]
     },
     "execution_count": 8,
     "metadata": {},
     "output_type": "execute_result"
    }
   ],
   "source": [
    "df.head()"
   ]
  },
  {
   "cell_type": "code",
   "execution_count": 9,
   "id": "6f272faa",
   "metadata": {},
   "outputs": [
    {
     "data": {
      "text/plain": [
       "tags                65\n",
       "companyName          0\n",
       "domainName           0\n",
       "crunchbase_url       0\n",
       "TYPE              1365\n",
       "UpdatedOn           34\n",
       "companyDesc       1215\n",
       "companyWebsite     126\n",
       "employeeNumber     858\n",
       "foundedDate        859\n",
       "domain_groups     3056\n",
       "fundingList       5322\n",
       "dtype: int64"
      ]
     },
     "execution_count": 9,
     "metadata": {},
     "output_type": "execute_result"
    }
   ],
   "source": [
    "# Checking for the null values\n",
    "df.isnull().sum()"
   ]
  },
  {
   "cell_type": "code",
   "execution_count": 10,
   "id": "cbf11d16",
   "metadata": {},
   "outputs": [
    {
     "data": {
      "text/plain": [
       "tags               0.871080\n",
       "companyName        0.000000\n",
       "domainName         0.000000\n",
       "crunchbase_url     0.000000\n",
       "TYPE              18.292683\n",
       "UpdatedOn          0.455642\n",
       "companyDesc       16.282498\n",
       "companyWebsite     1.688555\n",
       "employeeNumber    11.498258\n",
       "foundedDate       11.511659\n",
       "domain_groups     40.954168\n",
       "fundingList       71.321362\n",
       "dtype: float64"
      ]
     },
     "execution_count": 10,
     "metadata": {},
     "output_type": "execute_result"
    }
   ],
   "source": [
    "df.isnull().sum()/df.shape[0]*100"
   ]
  },
  {
   "cell_type": "markdown",
   "id": "78949fba",
   "metadata": {},
   "source": [
    "#### Lets drop fundingList and domain_groups columns"
   ]
  },
  {
   "cell_type": "code",
   "execution_count": 11,
   "id": "cf4f13dc",
   "metadata": {},
   "outputs": [],
   "source": [
    "df1 = df.drop(['fundingList','domain_groups'],axis=1)"
   ]
  },
  {
   "cell_type": "code",
   "execution_count": 12,
   "id": "8f5d032e",
   "metadata": {},
   "outputs": [],
   "source": [
    "df1.dropna(inplace = True)"
   ]
  },
  {
   "cell_type": "code",
   "execution_count": 13,
   "id": "46971da3",
   "metadata": {},
   "outputs": [
    {
     "data": {
      "text/plain": [
       "tags              0\n",
       "companyName       0\n",
       "domainName        0\n",
       "crunchbase_url    0\n",
       "TYPE              0\n",
       "UpdatedOn         0\n",
       "companyDesc       0\n",
       "companyWebsite    0\n",
       "employeeNumber    0\n",
       "foundedDate       0\n",
       "dtype: int64"
      ]
     },
     "execution_count": 13,
     "metadata": {},
     "output_type": "execute_result"
    }
   ],
   "source": [
    "df1.isnull().sum()"
   ]
  },
  {
   "cell_type": "markdown",
   "id": "56d348e7",
   "metadata": {},
   "source": [
    "# univariate analysis"
   ]
  },
  {
   "cell_type": "code",
   "execution_count": 17,
   "id": "2f2014fb",
   "metadata": {},
   "outputs": [
    {
     "data": {
      "text/plain": [
       "Product-based    3590\n",
       "Service-based    1154\n",
       "Name: TYPE, dtype: int64"
      ]
     },
     "execution_count": 17,
     "metadata": {},
     "output_type": "execute_result"
    }
   ],
   "source": [
    "df1.TYPE.value_counts()"
   ]
  },
  {
   "cell_type": "code",
   "execution_count": 19,
   "id": "55b4144c",
   "metadata": {},
   "outputs": [
    {
     "data": {
      "text/plain": [
       "<AxesSubplot:xlabel='TYPE', ylabel='count'>"
      ]
     },
     "execution_count": 19,
     "metadata": {},
     "output_type": "execute_result"
    },
    {
     "data": {
      "image/png": "[encoded data removed]",
      "text/plain": [
       "<Figure size 432x288 with 1 Axes>"
      ]
     },
     "metadata": {
      "needs_background": "light"
     },
     "output_type": "display_data"
    }
   ],
   "source": [
    "sns.countplot(df1.TYPE)"
   ]
  },
  {
   "cell_type": "markdown",
   "id": "d8f5d30e",
   "metadata": {},
   "source": [
    "#### From the above graph we can infer that the data has more product based companies"
   ]
  },
  {
   "cell_type": "code",
   "execution_count": null,
   "id": "64b05b82",
   "metadata": {},
   "outputs": [],
   "source": []
  }
 ],
 "metadata": {
  "kernelspec": {
   "display_name": "Python 3 (ipykernel)",
   "language": "python",
   "name": "python3"
  },
  "language_info": {
   "codemirror_mode": {
    "name": "ipython",
    "version": 3
   },
   "file_extension": ".py",
   "mimetype": "text/x-python",
   "name": "python",
   "nbconvert_exporter": "python",
   "pygments_lexer": "ipython3",
   "version": "3.9.7"
  }
 },
 "nbformat": 4,
 "nbformat_minor": 5
}
